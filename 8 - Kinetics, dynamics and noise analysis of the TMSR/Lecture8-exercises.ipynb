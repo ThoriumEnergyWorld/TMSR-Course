{
 "cells": [
  {
   "cell_type": "markdown",
   "metadata": {},
   "source": [
    "# Exercise Problems to Lecture 8 - Kinetics, dynamics and noise analysis of the TMSR\n",
    "\n",
    "## Problem 1\n",
    "Start with a bare homogeneous one-dimensional slab reactor MSR along the $x$-axis, with fuel velocity originally zero. \n",
    "Assume the width of the slab reactor being $2a$, and $x \\in (-a,a)$. This means that the length of the core is $H = 2a$. The length of the external loop (leading the fuel back from the outlet to the inlet) is $L$. We assume that the fuel velocity $u$ is the same in the core as in the outer loop. \n",
    "\\smallspace\n",
    "\n",
    "For the reactor with non-moving fuel, the traditional one-group diffusion equations are valid. The static equation reads as\n",
    "\\begin{equation}\\label{eq:3}\n",
    "D \\triangle  \\phi(x)+ (\\nu \\Sigma_f-\\Sigma_a) \\phi(x)=0,\n",
    "\\end{equation}\n",
    "with the boundary condition that the flux is zero at the extapolated bounaries $x=\\pm a$.\n",
    "\n",
    "The material and geometrical parameters of the core are as follows:"
   ]
  },
  {
   "cell_type": "markdown",
   "metadata": {},
   "source": [
    "$\\Sigma_a=0.01$ cm$^{-1}$ <br>\n",
    "$D=0.33$ cm <br>\n",
    "$a=100$ cm  ($H=200$ cm) <br>\n",
    "$L=400$ cm"
   ]
  },
  {
   "cell_type": "code",
   "execution_count": 7,
   "metadata": {},
   "outputs": [
    {
     "data": {
      "text/latex": [
       "\\begin{eqnarray}\n",
       "\\nabla \\times \\vec{\\mathbf{B}} -\\, \\frac1c\\, \\frac{\\partial\\vec{\\mathbf{E}}}{\\partial t} & = \\frac{4\\pi}{c}\\vec{\\mathbf{j}} \\\\\n",
       "\\nabla \\cdot \\vec{\\mathbf{E}} & = 4 \\pi \\rho \\\\\n",
       "\\nabla \\times \\vec{\\mathbf{E}}\\, +\\, \\frac1c\\, \\frac{\\partial\\vec{\\mathbf{B}}}{\\partial t} & = \\vec{\\mathbf{0}} \\\\\n",
       "\\nabla \\cdot \\vec{\\mathbf{B}} & = 0 \n",
       "\\end{eqnarray}"
      ],
      "text/plain": [
       "<IPython.core.display.Latex object>"
      ]
     },
     "execution_count": 7,
     "metadata": {},
     "output_type": "execute_result"
    }
   ],
   "source": [
    "from IPython.display import Latex\n",
    "Latex(r\"\"\"\\begin{eqnarray}\n",
    "\\nabla \\times \\vec{\\mathbf{B}} -\\, \\frac1c\\, \\frac{\\partial\\vec{\\mathbf{E}}}{\\partial t} & = \\frac{4\\pi}{c}\\vec{\\mathbf{j}} \\\\\n",
    "\\nabla \\cdot \\vec{\\mathbf{E}} & = 4 \\pi \\rho \\\\\n",
    "\\nabla \\times \\vec{\\mathbf{E}}\\, +\\, \\frac1c\\, \\frac{\\partial\\vec{\\mathbf{B}}}{\\partial t} & = \\vec{\\mathbf{0}} \\\\\n",
    "\\nabla \\cdot \\vec{\\mathbf{B}} & = 0 \n",
    "\\end{eqnarray}\"\"\")"
   ]
  },
  {
   "cell_type": "code",
   "execution_count": 9,
   "metadata": {},
   "outputs": [
    {
     "data": {
      "text/latex": [
       "\\begin{displaymath}\n",
       "\\Sigma_a=0.01 \\,\\, \\text{cm}^{-1};\n",
       "\\end{displaymath}\n",
       "\\begin{displaymath}\n",
       "D=0.33 \\,\\, \\text{cm};\n",
       "\\end{displaymath}\n",
       "\\begin{displaymath}\n",
       "a=100 \\,\\, \\text{cm} \\quad (H=200 \\, \\, \\text{cm});\n",
       "\\end{displaymath}\n",
       "\\begin{displaymath}\n",
       "L=400 \\,\\, \\text{cm}.\n",
       "\\end{displaymath}"
      ],
      "text/plain": [
       "<IPython.core.display.Latex object>"
      ]
     },
     "execution_count": 9,
     "metadata": {},
     "output_type": "execute_result"
    }
   ],
   "source": [
    "from IPython.display import Latex\n",
    "\n",
    "Latex(r\"\"\"\\begin{displaymath}\n",
    "\\Sigma_a=0.01 \\,\\, \\text{cm}^{-1};\n",
    "\\end{displaymath}\n",
    "\\begin{displaymath}\n",
    "D=0.33 \\,\\, \\text{cm};\n",
    "\\end{displaymath}\n",
    "\\begin{displaymath}\n",
    "a=100 \\,\\, \\text{cm} \\quad (H=200 \\, \\, \\text{cm});\n",
    "\\end{displaymath}\n",
    "\\begin{displaymath}\n",
    "L=400 \\,\\, \\text{cm}.\n",
    "\\end{displaymath}\"\"\")"
   ]
  },
  {
   "cell_type": "code",
   "execution_count": null,
   "metadata": {},
   "outputs": [],
   "source": []
  },
  {
   "cell_type": "markdown",
   "metadata": {},
   "source": [
    "Start with finding the $\\nu \\Sigma_f$  which makes the system critical. Calculate the critical flux, for later plotting.\n",
    "\n",
    "Then, assume that we set the fuel into motion with a velocity $u = \\infty$, without changing any other parameter. The reactor will then become subcritical.\n",
    "\n",
    "Solve now the following tasks.\n",
    "\n",
    "* Delayed neutrons\n",
    "\n",
    "    What will be the fraction of the delayed neutrons, which will decay in the core and not in the outside loop?\n",
    "\n",
    "* Criticality\n",
    "\n",
    "    Calculate the multiplication factor of the subcritical reactor $k$ (or the subcritical reactivity $\\rho$) of the system. \n",
    "\n",
    "    For this, you will have to solve the transcendental criticality equation (5.25) of the notes to determine the critical $B_{0}$, and the subcritical form of Eq. (5.22) to find the multiplication factor.\n",
    "\n",
    "Can you see a connection between the subcriticality of the reactor, and the fraction of the delayed neutrons decaying in the core?\n",
    "\n",
    "* Flux shape\n",
    "\n",
    "Calculate the static flux for the MSR with infinite fuel velocity, and plot it together with the static flux when the fuel velocity is zero, such that they are both normalise to unity at $x = 0$. Can you interpret the differences you see?"
   ]
  },
  {
   "cell_type": "code",
   "execution_count": 1,
   "metadata": {},
   "outputs": [],
   "source": [
    "a = 3"
   ]
  },
  {
   "cell_type": "code",
   "execution_count": 2,
   "metadata": {},
   "outputs": [
    {
     "name": "stdout",
     "output_type": "stream",
     "text": [
      "7\n"
     ]
    }
   ],
   "source": [
    "b = a + 4\n",
    "print(b)"
   ]
  },
  {
   "cell_type": "code",
   "execution_count": null,
   "metadata": {},
   "outputs": [],
   "source": []
  }
 ],
 "metadata": {
  "kernelspec": {
   "display_name": "Python 3",
   "language": "python",
   "name": "python3"
  },
  "language_info": {
   "codemirror_mode": {
    "name": "ipython",
    "version": 3
   },
   "file_extension": ".py",
   "mimetype": "text/x-python",
   "name": "python",
   "nbconvert_exporter": "python",
   "pygments_lexer": "ipython3",
   "version": "3.6.3"
  }
 },
 "nbformat": 4,
 "nbformat_minor": 2
}
